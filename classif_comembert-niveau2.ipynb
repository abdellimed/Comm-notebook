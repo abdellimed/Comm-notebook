{
 "cells": [
  {
   "cell_type": "code",
   "execution_count": 1,
   "id": "3932880f-99f8-44ee-b6e0-8cd5615f15b2",
   "metadata": {
    "tags": []
   },
   "outputs": [],
   "source": [
    "!pip install transformers plotly==5.8.0 pyyaml==5.4.1 datasets pytorch-lightning > /dev/null 2>&1"
   ]
  },
  {
   "cell_type": "code",
   "execution_count": 33,
   "id": "4effa0c5-b301-45c7-9550-8e10c4571c7b",
   "metadata": {
    "tags": []
   },
   "outputs": [],
   "source": []
  },
  {
   "cell_type": "code",
   "execution_count": 1,
   "id": "3da55168-f5b2-472f-b2e5-0a35525b98d9",
   "metadata": {
    "tags": []
   },
   "outputs": [],
   "source": [
    "from pprint import pprint\n",
    "import functools\n",
    "import torch\n",
    "from torch.utils.data import DataLoader\n",
    "import torch.nn.functional as F\n",
    "import pytorch_lightning as pl\n",
    "from transformers import AutoModelForSequenceClassification, CamembertForMaskedLM, AutoTokenizer, AutoConfig\n",
    "from datasets import load_dataset\n",
    "from sklearn.metrics import confusion_matrix, f1_score\n",
    "import matplotlib.pyplot as plt\n",
    "import seaborn as sns\n",
    "import plotly.express as px\n",
    "from tqdm.notebook import tqdm\n",
    "from sklearn.model_selection import train_test_split\n",
    "from datasets import Dataset, DatasetDict\n",
    "import pandas as pd"
   ]
  },
  {
   "cell_type": "code",
   "execution_count": null,
   "id": "a594cff4-80c4-48de-b96f-141f3ae5a77d",
   "metadata": {
    "tags": []
   },
   "outputs": [],
   "source": []
  },
  {
   "cell_type": "code",
   "execution_count": 2,
   "id": "c5b81d23-532a-4815-a689-1a6ad84242d5",
   "metadata": {
    "tags": []
   },
   "outputs": [],
   "source": [
    "df=pd.read_csv('./dmr2.csv')\n",
    "df=df[df['count_word']>1]"
   ]
  },
  {
   "cell_type": "code",
   "execution_count": null,
   "id": "f54eb503-9279-4b4d-bd44-59dadf8d1e57",
   "metadata": {
    "tags": []
   },
   "outputs": [],
   "source": []
  },
  {
   "cell_type": "code",
   "execution_count": 3,
   "id": "a9158069-4c1c-4fb0-b947-4b3584e39484",
   "metadata": {
    "tags": []
   },
   "outputs": [
    {
     "data": {
      "text/plain": [
       " Autres objets encombrants abandonnés                                                      81085\n",
       " Déchets et/ou salissures divers                                                           54590\n",
       " Étalages et terrasses à usage commercial                                                  48635\n",
       " Graffitis et autocollants sur mur, façade sur rue, pont et descente d'eau pluviale        47328\n",
       " Automobile ou autre véhicule motorisé en stationnement gênant                             38662\n",
       "                                                                                           ...  \n",
       " Colonne Morris                                                                               10\n",
       " Journal électronique d'information (municipal)                                                8\n",
       " Affiches, autocollants ou graffitis sur journal électronique d'information (municipal)        3\n",
       " Affiches, autocollants ou graffitis sur panneaux publicitaires (Clear Channel)                3\n",
       " Graffitis sur mur, façade sur rue, pont                                                       1\n",
       "Name: type_level_2, Length: 92, dtype: int64"
      ]
     },
     "execution_count": 3,
     "metadata": {},
     "output_type": "execute_result"
    }
   ],
   "source": [
    "df.type_level_2.value_counts()"
   ]
  },
  {
   "cell_type": "code",
   "execution_count": 4,
   "id": "38dc27af-5deb-402c-9f45-5e3b36d92233",
   "metadata": {
    "tags": []
   },
   "outputs": [],
   "source": [
    "count=df.type_level_2.value_counts()"
   ]
  },
  {
   "cell_type": "code",
   "execution_count": 5,
   "id": "86db47b5-2e6f-41bf-ae03-11c24859f38d",
   "metadata": {
    "tags": []
   },
   "outputs": [],
   "source": [
    "df['occurences']=df['type_level_2'].transform(lambda x: count[x])"
   ]
  },
  {
   "cell_type": "code",
   "execution_count": 6,
   "id": "427970be-04dc-4f1b-beb4-1dd2501557e1",
   "metadata": {
    "tags": []
   },
   "outputs": [],
   "source": [
    "df=df[df['occurences']>500]\n",
    "df=df.drop(columns=['occurences'])"
   ]
  },
  {
   "cell_type": "code",
   "execution_count": 7,
   "id": "8b986afd-0503-4d32-8c1e-bb7d4438601b",
   "metadata": {
    "tags": []
   },
   "outputs": [
    {
     "data": {
      "text/plain": [
       " Autres objets encombrants abandonnés                                                  81085\n",
       " Déchets et/ou salissures divers                                                       54590\n",
       " Étalages et terrasses à usage commercial                                              48635\n",
       " Graffitis et autocollants sur mur, façade sur rue, pont et descente d'eau pluviale    47328\n",
       " Automobile ou autre véhicule motorisé en stationnement gênant                         38662\n",
       " Deux-roues motorisé en stationnement gênant                                           12586\n",
       " Propreté des équipements de collecte des déchets                                      11859\n",
       " Cartons ou sacs de déchets ménagers                                                    9562\n",
       " Affiches, autocollants ou graffitis sur mobilier                                       9309\n",
       " Gravats ou déchets de chantier                                                         9176\n",
       " Protection                                                                             8984\n",
       " Trottoirs                                                                              7835\n",
       " Panneaux routiers                                                                      7016\n",
       " Graffitis sur rideau métallique                                                        6995\n",
       " Épave d'automobile ou d'un autre véhicule motorisé                                     6831\n",
       " Éclairage public éteint la nuit                                                        6792\n",
       " Autres                                                                                 6783\n",
       " Épanchement d'urine                                                                    6743\n",
       " Propreté du sol                                                                        6294\n",
       " Affiches, autocollants ou graffitis sur autres supports                                6090\n",
       " Déjections canines                                                                     5851\n",
       " Chaussées                                                                              5411\n",
       " Épave de deux-roues motorisé                                                           4720\n",
       " Feux tricolores                                                                        4266\n",
       " Épave de vélo                                                                          3811\n",
       " Collecte des déchets                                                                   3728\n",
       " Objets infestés de punaises de lit                                                     3507\n",
       " Chantier                                                                               3463\n",
       " Gênes à la circulation des piétons                                                     3368\n",
       " Autres problèmes d'eau                                                                 3315\n",
       " Chantier                                                                               3280\n",
       " Barrières et autres objets de chantier (hors gravats)                                  3182\n",
       " Nuisances lumineuses                                                                   3130\n",
       " Trappes ou grilles au sol                                                              2814\n",
       " Autres problèmes d'animaux et d'insectes                                               2603\n",
       " Pied d'arbre                                                                           2145\n",
       " Marquage au sol  effacé                                                                2079\n",
       " Affiches sur mur, façade sur rue, pont                                                 2015\n",
       " Présence de rats                                                                       1877\n",
       " Arbre dangereux ou en mauvais état                                                     1816\n",
       " Aménagements cyclables                                                                 1793\n",
       " Lampadaire en mauvais état                                                             1649\n",
       " Mégots                                                                                 1585\n",
       " Herbes éparses                                                                         1559\n",
       " Chariot de supermarché                                                                 1502\n",
       " Accumulation d'eau                                                                     1281\n",
       " Peinture sur trottoir                                                                  1191\n",
       " WC publics                                                                             1166\n",
       " Fils électriques apparents sur lampadaire ou sur armoire électrique                    1081\n",
       " Boîte aux lettres (La Poste)                                                           1065\n",
       " Arbuste ou jardinière en mauvais état                                                  1052\n",
       " Arbre à élaguer                                                                         945\n",
       " Fontaine distribuant de l'eau potable                                                   829\n",
       " Éclairage public allumé le jour                                                         806\n",
       " Épave de Vélib'                                                                         715\n",
       " Information ou publicité                                                                629\n",
       " Épave de trottinette                                                                    625\n",
       " Pelouse en mauvais état                                                                 566\n",
       "Name: type_level_2, dtype: int64"
      ]
     },
     "execution_count": 7,
     "metadata": {},
     "output_type": "execute_result"
    }
   ],
   "source": [
    "count[count>=500]\n",
    " "
   ]
  },
  {
   "cell_type": "code",
   "execution_count": 8,
   "id": "9bd18558-b52f-428d-a0fb-6a3699ca9b58",
   "metadata": {
    "tags": []
   },
   "outputs": [],
   "source": [
    "type_level_2=list(set(df['type_level_2']))"
   ]
  },
  {
   "cell_type": "code",
   "execution_count": 9,
   "id": "be7aebdc-3896-41a2-b585-b12ca11bb58c",
   "metadata": {
    "tags": []
   },
   "outputs": [],
   "source": [
    "dic_niv2={}\n",
    "for i,tl in enumerate(type_level_2):\n",
    "    dic_niv2[tl]=i\n",
    "dic_niv2\n",
    "df['label']=df['type_level_2'].replace(dic_niv2)\n"
   ]
  },
  {
   "cell_type": "code",
   "execution_count": 10,
   "id": "46863534-f635-44c6-a2a9-e0c2be6a85c8",
   "metadata": {
    "tags": []
   },
   "outputs": [
    {
     "data": {
      "text/plain": [
       "{' Chariot de supermarché': 0,\n",
       " ' Arbre à élaguer': 1,\n",
       " ' Arbuste ou jardinière en mauvais état': 2,\n",
       " \" Graffitis et autocollants sur mur, façade sur rue, pont et descente d'eau pluviale\": 3,\n",
       " ' Lampadaire en mauvais état': 4,\n",
       " ' Autres': 5,\n",
       " ' Éclairage public éteint la nuit': 6,\n",
       " ' Chaussées': 7,\n",
       " ' Affiches, autocollants ou graffitis sur mobilier': 8,\n",
       " ' Chantier': 9,\n",
       " ' Automobile ou autre véhicule motorisé en stationnement gênant': 10,\n",
       " ' Déchets et/ou salissures divers': 11,\n",
       " ' Déjections canines': 12,\n",
       " ' Peinture sur trottoir': 13,\n",
       " ' Gênes à la circulation des piétons': 14,\n",
       " ' Nuisances lumineuses': 15,\n",
       " ' Marquage au sol  effacé ': 16,\n",
       " ' Cartons ou sacs de déchets ménagers': 17,\n",
       " ' Feux tricolores ': 18,\n",
       " ' Affiches, autocollants ou graffitis sur autres supports': 19,\n",
       " ' Objets infestés de punaises de lit': 20,\n",
       " ' Mégots': 21,\n",
       " ' Propreté des équipements de collecte des déchets': 22,\n",
       " ' Trottoirs': 23,\n",
       " ' Propreté du sol': 24,\n",
       " ' Éclairage public allumé le jour': 25,\n",
       " ' Étalages et terrasses à usage commercial': 26,\n",
       " \" Épave de Vélib'\": 27,\n",
       " ' Trappes ou grilles au sol': 28,\n",
       " ' Aménagements cyclables': 29,\n",
       " ' Épave de vélo': 30,\n",
       " ' Arbre dangereux ou en mauvais état': 31,\n",
       " ' WC publics ': 32,\n",
       " ' Herbes éparses': 33,\n",
       " \" Autres problèmes d'animaux et d'insectes\": 34,\n",
       " ' Autres objets encombrants abandonnés': 35,\n",
       " ' Panneaux routiers': 36,\n",
       " \" Fontaine distribuant de l'eau potable\": 37,\n",
       " ' Collecte des déchets': 38,\n",
       " \" Pied d'arbre\": 39,\n",
       " ' Barrières et autres objets de chantier (hors gravats)': 40,\n",
       " \" Autres problèmes d'eau\": 41,\n",
       " ' Chantier ': 42,\n",
       " \" Accumulation d'eau\": 43,\n",
       " ' Boîte aux lettres (La Poste)': 44,\n",
       " ' Pelouse en mauvais état': 45,\n",
       " \" Épanchement d'urine\": 46,\n",
       " \" Épave d'automobile ou d'un autre véhicule motorisé\\xa0\": 47,\n",
       " ' Information ou publicité': 48,\n",
       " ' Fils électriques apparents sur lampadaire ou sur armoire électrique': 49,\n",
       " ' Présence de rats': 50,\n",
       " ' Épave de trottinette': 51,\n",
       " ' Protection': 52,\n",
       " ' Épave de deux-roues motorisé': 53,\n",
       " ' Affiches sur mur, façade sur rue, pont': 54,\n",
       " ' Deux-roues motorisé en stationnement gênant': 55,\n",
       " ' Graffitis sur rideau métallique': 56,\n",
       " ' Gravats ou déchets de chantier': 57}"
      ]
     },
     "execution_count": 10,
     "metadata": {},
     "output_type": "execute_result"
    }
   ],
   "source": [
    "dic_niv2"
   ]
  },
  {
   "cell_type": "code",
   "execution_count": 11,
   "id": "ad15ab03-5ed5-4ed9-9a4b-8b74e99fd5a7",
   "metadata": {
    "tags": []
   },
   "outputs": [],
   "source": [
    "#df=pd.read_csv('./dmr2.csv')\n",
    "\n",
    "min_count=min(df['type_level_2'].value_counts()) # = 566\n",
    "balanced_df=df.groupby('type_level_2').apply(lambda x:x.sample(n=min_count,random_state=42)) # 566*58 =32828\n",
    "df=balanced_df.sample(frac=0.6).reset_index(drop=True) # changer 0.1 par 1 pour avoir les données globale #32828*0.6=\n",
    "#df=df.sample(frac=0.01).reset_index(drop=True) \n",
    "#df1=df1[df1['count_word']>1]"
   ]
  },
  {
   "cell_type": "code",
   "execution_count": 12,
   "id": "0d2f9dbe-1009-4b58-9810-b3a69bd881a9",
   "metadata": {
    "tags": []
   },
   "outputs": [
    {
     "data": {
      "text/plain": [
       "creation_date         19697\n",
       "commentaire_usager    19697\n",
       "type_level_1          19697\n",
       "type_level_2          19697\n",
       "count_word            19697\n",
       "label                 19697\n",
       "dtype: int64"
      ]
     },
     "execution_count": 12,
     "metadata": {},
     "output_type": "execute_result"
    }
   ],
   "source": [
    "df.count()"
   ]
  },
  {
   "cell_type": "code",
   "execution_count": 13,
   "id": "bee5cfcf",
   "metadata": {},
   "outputs": [
    {
     "data": {
      "text/plain": [
       "566"
      ]
     },
     "execution_count": 13,
     "metadata": {},
     "output_type": "execute_result"
    }
   ],
   "source": [
    "min_count"
   ]
  },
  {
   "cell_type": "code",
   "execution_count": 14,
   "id": "bf77ddba",
   "metadata": {},
   "outputs": [],
   "source": [
    "from datetime import datetime"
   ]
  },
  {
   "cell_type": "code",
   "execution_count": 15,
   "id": "0657189f",
   "metadata": {},
   "outputs": [],
   "source": [
    "df['creation_date'] = pd.to_datetime(df['creation_date'])\n",
    "\n",
    "# Filtrez les dates entre le 13 juillet et le 19 juillet\n",
    "start_date = pd.to_datetime('2023-07-14')\n",
    "end_date = pd.to_datetime('2023-07-20')\n",
    "filtered_df = df[(df['creation_date'] >= start_date) & (df['creation_date'] <= end_date)]"
   ]
  },
  {
   "cell_type": "code",
   "execution_count": 16,
   "id": "539e057c",
   "metadata": {},
   "outputs": [],
   "source": [
    "df=df[df['creation_date'] <start_date]"
   ]
  },
  {
   "cell_type": "code",
   "execution_count": null,
   "id": "3350992a",
   "metadata": {},
   "outputs": [],
   "source": []
  },
  {
   "cell_type": "code",
   "execution_count": 17,
   "id": "61855a49",
   "metadata": {},
   "outputs": [
    {
     "data": {
      "text/html": [
       "<div>\n",
       "<style scoped>\n",
       "    .dataframe tbody tr th:only-of-type {\n",
       "        vertical-align: middle;\n",
       "    }\n",
       "\n",
       "    .dataframe tbody tr th {\n",
       "        vertical-align: top;\n",
       "    }\n",
       "\n",
       "    .dataframe thead th {\n",
       "        text-align: right;\n",
       "    }\n",
       "</style>\n",
       "<table border=\"1\" class=\"dataframe\">\n",
       "  <thead>\n",
       "    <tr style=\"text-align: right;\">\n",
       "      <th></th>\n",
       "      <th>creation_date</th>\n",
       "      <th>commentaire_usager</th>\n",
       "      <th>type_level_1</th>\n",
       "      <th>type_level_2</th>\n",
       "      <th>count_word</th>\n",
       "      <th>label</th>\n",
       "    </tr>\n",
       "  </thead>\n",
       "  <tbody>\n",
       "    <tr>\n",
       "      <th>0</th>\n",
       "      <td>2022-03-23</td>\n",
       "      <td>bonjour delinquants a nouveau scie barreau ren...</td>\n",
       "      <td>Arbres, végétaux et animaux</td>\n",
       "      <td>Pelouse en mauvais état</td>\n",
       "      <td>21</td>\n",
       "      <td>45</td>\n",
       "    </tr>\n",
       "    <tr>\n",
       "      <th>1</th>\n",
       "      <td>2022-05-13</td>\n",
       "      <td>grille sol detachee</td>\n",
       "      <td>Arbres, végétaux et animaux</td>\n",
       "      <td>Pied d'arbre</td>\n",
       "      <td>3</td>\n",
       "      <td>39</td>\n",
       "    </tr>\n",
       "    <tr>\n",
       "      <th>2</th>\n",
       "      <td>2022-03-16</td>\n",
       "      <td>flaque deau niveau passage pieton</td>\n",
       "      <td>Eau</td>\n",
       "      <td>Accumulation d'eau</td>\n",
       "      <td>5</td>\n",
       "      <td>43</td>\n",
       "    </tr>\n",
       "    <tr>\n",
       "      <th>3</th>\n",
       "      <td>2022-04-18</td>\n",
       "      <td>presence bris verre nombreux megots parc a jeux</td>\n",
       "      <td>Propreté</td>\n",
       "      <td>Mégots</td>\n",
       "      <td>8</td>\n",
       "      <td>21</td>\n",
       "    </tr>\n",
       "    <tr>\n",
       "      <th>4</th>\n",
       "      <td>2022-12-19</td>\n",
       "      <td>plus dune semaine signalement toujours ramasse...</td>\n",
       "      <td>Propreté</td>\n",
       "      <td>Propreté du sol</td>\n",
       "      <td>25</td>\n",
       "      <td>24</td>\n",
       "    </tr>\n",
       "    <tr>\n",
       "      <th>...</th>\n",
       "      <td>...</td>\n",
       "      <td>...</td>\n",
       "      <td>...</td>\n",
       "      <td>...</td>\n",
       "      <td>...</td>\n",
       "      <td>...</td>\n",
       "    </tr>\n",
       "    <tr>\n",
       "      <th>19692</th>\n",
       "      <td>2022-09-25</td>\n",
       "      <td>travaux gaz france batiment a labandon depuis ...</td>\n",
       "      <td>Voirie et espace public</td>\n",
       "      <td>Chantier</td>\n",
       "      <td>12</td>\n",
       "      <td>9</td>\n",
       "    </tr>\n",
       "    <tr>\n",
       "      <th>19693</th>\n",
       "      <td>2021-07-06</td>\n",
       "      <td>jai deja signale fois depuis mois danger perso...</td>\n",
       "      <td>Voirie et espace public</td>\n",
       "      <td>Trottoirs</td>\n",
       "      <td>16</td>\n",
       "      <td>23</td>\n",
       "    </tr>\n",
       "    <tr>\n",
       "      <th>19694</th>\n",
       "      <td>2022-10-05</td>\n",
       "      <td>rue dan sun etat lamentable jonchee detritus t...</td>\n",
       "      <td>Propreté</td>\n",
       "      <td>Déchets et/ou salissures divers</td>\n",
       "      <td>9</td>\n",
       "      <td>11</td>\n",
       "    </tr>\n",
       "    <tr>\n",
       "      <th>19695</th>\n",
       "      <td>2022-11-28</td>\n",
       "      <td>crottes chien present tout rue tout temp prevo...</td>\n",
       "      <td>Propreté</td>\n",
       "      <td>Déjections canines</td>\n",
       "      <td>10</td>\n",
       "      <td>12</td>\n",
       "    </tr>\n",
       "    <tr>\n",
       "      <th>19696</th>\n",
       "      <td>2022-04-05</td>\n",
       "      <td>dechet diver trottoir devant pharmacie</td>\n",
       "      <td>Propreté</td>\n",
       "      <td>Déchets et/ou salissures divers</td>\n",
       "      <td>5</td>\n",
       "      <td>11</td>\n",
       "    </tr>\n",
       "  </tbody>\n",
       "</table>\n",
       "<p>19601 rows × 6 columns</p>\n",
       "</div>"
      ],
      "text/plain": [
       "      creation_date                                 commentaire_usager  \\\n",
       "0        2022-03-23  bonjour delinquants a nouveau scie barreau ren...   \n",
       "1        2022-05-13                                grille sol detachee   \n",
       "2        2022-03-16                  flaque deau niveau passage pieton   \n",
       "3        2022-04-18    presence bris verre nombreux megots parc a jeux   \n",
       "4        2022-12-19  plus dune semaine signalement toujours ramasse...   \n",
       "...             ...                                                ...   \n",
       "19692    2022-09-25  travaux gaz france batiment a labandon depuis ...   \n",
       "19693    2021-07-06  jai deja signale fois depuis mois danger perso...   \n",
       "19694    2022-10-05  rue dan sun etat lamentable jonchee detritus t...   \n",
       "19695    2022-11-28  crottes chien present tout rue tout temp prevo...   \n",
       "19696    2022-04-05             dechet diver trottoir devant pharmacie   \n",
       "\n",
       "                      type_level_1                      type_level_2  \\\n",
       "0      Arbres, végétaux et animaux           Pelouse en mauvais état   \n",
       "1      Arbres, végétaux et animaux                      Pied d'arbre   \n",
       "2                              Eau                Accumulation d'eau   \n",
       "3                         Propreté                            Mégots   \n",
       "4                         Propreté                   Propreté du sol   \n",
       "...                            ...                               ...   \n",
       "19692      Voirie et espace public                          Chantier   \n",
       "19693      Voirie et espace public                         Trottoirs   \n",
       "19694                     Propreté   Déchets et/ou salissures divers   \n",
       "19695                     Propreté                Déjections canines   \n",
       "19696                     Propreté   Déchets et/ou salissures divers   \n",
       "\n",
       "       count_word  label  \n",
       "0              21     45  \n",
       "1               3     39  \n",
       "2               5     43  \n",
       "3               8     21  \n",
       "4              25     24  \n",
       "...           ...    ...  \n",
       "19692          12      9  \n",
       "19693          16     23  \n",
       "19694           9     11  \n",
       "19695          10     12  \n",
       "19696           5     11  \n",
       "\n",
       "[19601 rows x 6 columns]"
      ]
     },
     "execution_count": 17,
     "metadata": {},
     "output_type": "execute_result"
    }
   ],
   "source": [
    "df"
   ]
  },
  {
   "cell_type": "code",
   "execution_count": 18,
   "id": "7c8f9107",
   "metadata": {},
   "outputs": [
    {
     "data": {
      "text/plain": [
       "Timestamp('2023-07-13 00:00:00')"
      ]
     },
     "execution_count": 18,
     "metadata": {},
     "output_type": "execute_result"
    }
   ],
   "source": [
    "df['creation_date'].max()"
   ]
  },
  {
   "cell_type": "code",
   "execution_count": 19,
   "id": "bd0c7298-4ac4-4400-bc48-cf5a0a7d50fc",
   "metadata": {
    "tags": []
   },
   "outputs": [],
   "source": [
    "\n",
    "\n",
    "# Diviser le DataFrame en ensembles d'entraînement (80%) et de test (20%)\n",
    "train_df, validation_df = train_test_split(df, test_size=0.2, random_state=42)\n",
    "\n",
    "# Diviser l'ensemble de test en ensembles de validation (50%) et de test (50%)\n",
    "#validation_df, test_df = train_test_split(test_df, test_size=0.5, random_state=42)\n",
    "\n",
    "# Créer un dictionnaire de données pour l'ensemble d'entraînement\n",
    "train_data = Dataset.from_pandas(train_df)\n",
    "\n",
    "# Créer un dictionnaire de données pour l'ensemble de validation\n",
    "validation_data = Dataset.from_pandas(validation_df)\n",
    "\n",
    "# Créer un dictionnaire de données pour l'ensemble de test\n",
    "#test_data = Dataset.from_pandas(test_df)\n",
    "\n",
    "# Créer un DatasetDict en utilisant les divisions d'entraînement, de validation et de test\n",
    "dataset_dict = DatasetDict({\n",
    "    'train': train_data,\n",
    "    'validation': validation_data,\n",
    "    #'test': test_data\n",
    "})\n",
    "\n",
    "dataset = dataset_dict.remove_columns('__index_level_0__')"
   ]
  },
  {
   "cell_type": "code",
   "execution_count": 20,
   "id": "98f282cd",
   "metadata": {},
   "outputs": [
    {
     "data": {
      "text/plain": [
       "DatasetDict({\n",
       "    train: Dataset({\n",
       "        features: ['creation_date', 'commentaire_usager', 'type_level_1', 'type_level_2', 'count_word', 'label'],\n",
       "        num_rows: 15680\n",
       "    })\n",
       "    validation: Dataset({\n",
       "        features: ['creation_date', 'commentaire_usager', 'type_level_1', 'type_level_2', 'count_word', 'label'],\n",
       "        num_rows: 3921\n",
       "    })\n",
       "})"
      ]
     },
     "execution_count": 20,
     "metadata": {},
     "output_type": "execute_result"
    }
   ],
   "source": [
    "dataset"
   ]
  },
  {
   "cell_type": "code",
   "execution_count": 21,
   "id": "052e9819-c156-4f39-9db8-4f3aca9d48f6",
   "metadata": {
    "tags": []
   },
   "outputs": [],
   "source": [
    "camembert = CamembertForMaskedLM.from_pretrained('camembert-base')"
   ]
  },
  {
   "cell_type": "code",
   "execution_count": 22,
   "id": "13ef1470-69c8-4ec2-89d1-4e7854b92ccc",
   "metadata": {
    "tags": []
   },
   "outputs": [
    {
     "data": {
      "text/plain": [
       "CamembertEmbeddings(\n",
       "  (word_embeddings): Embedding(32005, 768, padding_idx=1)\n",
       "  (position_embeddings): Embedding(514, 768, padding_idx=1)\n",
       "  (token_type_embeddings): Embedding(1, 768)\n",
       "  (LayerNorm): LayerNorm((768,), eps=1e-05, elementwise_affine=True)\n",
       "  (dropout): Dropout(p=0.1, inplace=False)\n",
       ")"
      ]
     },
     "execution_count": 22,
     "metadata": {},
     "output_type": "execute_result"
    }
   ],
   "source": [
    "# Visualiser la couches d'embeddings\n",
    "camembert.roberta.embeddings"
   ]
  },
  {
   "cell_type": "code",
   "execution_count": 23,
   "id": "133176dd-0ce2-496a-a30d-7b0fa0284f7f",
   "metadata": {
    "tags": []
   },
   "outputs": [
    {
     "name": "stdout",
     "output_type": "stream",
     "text": [
      "Camembert est composé de 12 couches cachées\n",
      "\n",
      "Voilà une couche cachée :\n"
     ]
    },
    {
     "data": {
      "text/plain": [
       "CamembertLayer(\n",
       "  (attention): CamembertAttention(\n",
       "    (self): CamembertSelfAttention(\n",
       "      (query): Linear(in_features=768, out_features=768, bias=True)\n",
       "      (key): Linear(in_features=768, out_features=768, bias=True)\n",
       "      (value): Linear(in_features=768, out_features=768, bias=True)\n",
       "      (dropout): Dropout(p=0.1, inplace=False)\n",
       "    )\n",
       "    (output): CamembertSelfOutput(\n",
       "      (dense): Linear(in_features=768, out_features=768, bias=True)\n",
       "      (LayerNorm): LayerNorm((768,), eps=1e-05, elementwise_affine=True)\n",
       "      (dropout): Dropout(p=0.1, inplace=False)\n",
       "    )\n",
       "  )\n",
       "  (intermediate): CamembertIntermediate(\n",
       "    (dense): Linear(in_features=768, out_features=3072, bias=True)\n",
       "    (intermediate_act_fn): GELUActivation()\n",
       "  )\n",
       "  (output): CamembertOutput(\n",
       "    (dense): Linear(in_features=3072, out_features=768, bias=True)\n",
       "    (LayerNorm): LayerNorm((768,), eps=1e-05, elementwise_affine=True)\n",
       "    (dropout): Dropout(p=0.1, inplace=False)\n",
       "  )\n",
       ")"
      ]
     },
     "execution_count": 23,
     "metadata": {},
     "output_type": "execute_result"
    }
   ],
   "source": [
    "# Visualiser les couches cachées\n",
    "print(f\"Camembert est composé de {len(camembert.roberta.encoder.layer)} couches cachées\\n\")\n",
    "print(\"Voilà une couche cachée :\")\n",
    "camembert.roberta.encoder.layer[0]"
   ]
  },
  {
   "cell_type": "code",
   "execution_count": 24,
   "id": "aba00e8f-ef8a-4d75-813e-c01992ae230e",
   "metadata": {
    "tags": []
   },
   "outputs": [],
   "source": [
    "tokenizer = AutoTokenizer.from_pretrained('camembert-base')\n"
   ]
  },
  {
   "cell_type": "code",
   "execution_count": 25,
   "id": "1c28c703-045a-4f26-ab68-1ba740294153",
   "metadata": {
    "tags": []
   },
   "outputs": [
    {
     "data": {
      "text/html": [
       "<div>\n",
       "<style scoped>\n",
       "    .dataframe tbody tr th:only-of-type {\n",
       "        vertical-align: middle;\n",
       "    }\n",
       "\n",
       "    .dataframe tbody tr th {\n",
       "        vertical-align: top;\n",
       "    }\n",
       "\n",
       "    .dataframe thead th {\n",
       "        text-align: right;\n",
       "    }\n",
       "</style>\n",
       "<table border=\"1\" class=\"dataframe\">\n",
       "  <thead>\n",
       "    <tr style=\"text-align: right;\">\n",
       "      <th></th>\n",
       "      <th>creation_date</th>\n",
       "      <th>commentaire_usager</th>\n",
       "      <th>type_level_1</th>\n",
       "      <th>type_level_2</th>\n",
       "      <th>count_word</th>\n",
       "      <th>label</th>\n",
       "    </tr>\n",
       "  </thead>\n",
       "  <tbody>\n",
       "    <tr>\n",
       "      <th>0</th>\n",
       "      <td>2022-03-23</td>\n",
       "      <td>bonjour delinquants a nouveau scie barreau ren...</td>\n",
       "      <td>Arbres, végétaux et animaux</td>\n",
       "      <td>Pelouse en mauvais état</td>\n",
       "      <td>21</td>\n",
       "      <td>45</td>\n",
       "    </tr>\n",
       "    <tr>\n",
       "      <th>1</th>\n",
       "      <td>2022-05-13</td>\n",
       "      <td>grille sol detachee</td>\n",
       "      <td>Arbres, végétaux et animaux</td>\n",
       "      <td>Pied d'arbre</td>\n",
       "      <td>3</td>\n",
       "      <td>39</td>\n",
       "    </tr>\n",
       "    <tr>\n",
       "      <th>2</th>\n",
       "      <td>2022-03-16</td>\n",
       "      <td>flaque deau niveau passage pieton</td>\n",
       "      <td>Eau</td>\n",
       "      <td>Accumulation d'eau</td>\n",
       "      <td>5</td>\n",
       "      <td>43</td>\n",
       "    </tr>\n",
       "    <tr>\n",
       "      <th>3</th>\n",
       "      <td>2022-04-18</td>\n",
       "      <td>presence bris verre nombreux megots parc a jeux</td>\n",
       "      <td>Propreté</td>\n",
       "      <td>Mégots</td>\n",
       "      <td>8</td>\n",
       "      <td>21</td>\n",
       "    </tr>\n",
       "    <tr>\n",
       "      <th>4</th>\n",
       "      <td>2022-12-19</td>\n",
       "      <td>plus dune semaine signalement toujours ramasse...</td>\n",
       "      <td>Propreté</td>\n",
       "      <td>Propreté du sol</td>\n",
       "      <td>25</td>\n",
       "      <td>24</td>\n",
       "    </tr>\n",
       "    <tr>\n",
       "      <th>...</th>\n",
       "      <td>...</td>\n",
       "      <td>...</td>\n",
       "      <td>...</td>\n",
       "      <td>...</td>\n",
       "      <td>...</td>\n",
       "      <td>...</td>\n",
       "    </tr>\n",
       "    <tr>\n",
       "      <th>19692</th>\n",
       "      <td>2022-09-25</td>\n",
       "      <td>travaux gaz france batiment a labandon depuis ...</td>\n",
       "      <td>Voirie et espace public</td>\n",
       "      <td>Chantier</td>\n",
       "      <td>12</td>\n",
       "      <td>9</td>\n",
       "    </tr>\n",
       "    <tr>\n",
       "      <th>19693</th>\n",
       "      <td>2021-07-06</td>\n",
       "      <td>jai deja signale fois depuis mois danger perso...</td>\n",
       "      <td>Voirie et espace public</td>\n",
       "      <td>Trottoirs</td>\n",
       "      <td>16</td>\n",
       "      <td>23</td>\n",
       "    </tr>\n",
       "    <tr>\n",
       "      <th>19694</th>\n",
       "      <td>2022-10-05</td>\n",
       "      <td>rue dan sun etat lamentable jonchee detritus t...</td>\n",
       "      <td>Propreté</td>\n",
       "      <td>Déchets et/ou salissures divers</td>\n",
       "      <td>9</td>\n",
       "      <td>11</td>\n",
       "    </tr>\n",
       "    <tr>\n",
       "      <th>19695</th>\n",
       "      <td>2022-11-28</td>\n",
       "      <td>crottes chien present tout rue tout temp prevo...</td>\n",
       "      <td>Propreté</td>\n",
       "      <td>Déjections canines</td>\n",
       "      <td>10</td>\n",
       "      <td>12</td>\n",
       "    </tr>\n",
       "    <tr>\n",
       "      <th>19696</th>\n",
       "      <td>2022-04-05</td>\n",
       "      <td>dechet diver trottoir devant pharmacie</td>\n",
       "      <td>Propreté</td>\n",
       "      <td>Déchets et/ou salissures divers</td>\n",
       "      <td>5</td>\n",
       "      <td>11</td>\n",
       "    </tr>\n",
       "  </tbody>\n",
       "</table>\n",
       "<p>19601 rows × 6 columns</p>\n",
       "</div>"
      ],
      "text/plain": [
       "      creation_date                                 commentaire_usager  \\\n",
       "0        2022-03-23  bonjour delinquants a nouveau scie barreau ren...   \n",
       "1        2022-05-13                                grille sol detachee   \n",
       "2        2022-03-16                  flaque deau niveau passage pieton   \n",
       "3        2022-04-18    presence bris verre nombreux megots parc a jeux   \n",
       "4        2022-12-19  plus dune semaine signalement toujours ramasse...   \n",
       "...             ...                                                ...   \n",
       "19692    2022-09-25  travaux gaz france batiment a labandon depuis ...   \n",
       "19693    2021-07-06  jai deja signale fois depuis mois danger perso...   \n",
       "19694    2022-10-05  rue dan sun etat lamentable jonchee detritus t...   \n",
       "19695    2022-11-28  crottes chien present tout rue tout temp prevo...   \n",
       "19696    2022-04-05             dechet diver trottoir devant pharmacie   \n",
       "\n",
       "                      type_level_1                      type_level_2  \\\n",
       "0      Arbres, végétaux et animaux           Pelouse en mauvais état   \n",
       "1      Arbres, végétaux et animaux                      Pied d'arbre   \n",
       "2                              Eau                Accumulation d'eau   \n",
       "3                         Propreté                            Mégots   \n",
       "4                         Propreté                   Propreté du sol   \n",
       "...                            ...                               ...   \n",
       "19692      Voirie et espace public                          Chantier   \n",
       "19693      Voirie et espace public                         Trottoirs   \n",
       "19694                     Propreté   Déchets et/ou salissures divers   \n",
       "19695                     Propreté                Déjections canines   \n",
       "19696                     Propreté   Déchets et/ou salissures divers   \n",
       "\n",
       "       count_word  label  \n",
       "0              21     45  \n",
       "1               3     39  \n",
       "2               5     43  \n",
       "3               8     21  \n",
       "4              25     24  \n",
       "...           ...    ...  \n",
       "19692          12      9  \n",
       "19693          16     23  \n",
       "19694           9     11  \n",
       "19695          10     12  \n",
       "19696           5     11  \n",
       "\n",
       "[19601 rows x 6 columns]"
      ]
     },
     "execution_count": 25,
     "metadata": {},
     "output_type": "execute_result"
    }
   ],
   "source": [
    "df"
   ]
  },
  {
   "cell_type": "code",
   "execution_count": 26,
   "id": "122c9578-7d53-4eb0-bccd-8a361a1ec982",
   "metadata": {
    "tags": []
   },
   "outputs": [
    {
     "data": {
      "text/plain": [
       "0.009778181818181818"
      ]
     },
     "execution_count": 26,
     "metadata": {},
     "output_type": "execute_result"
    }
   ],
   "source": [
    "5378/550000"
   ]
  },
  {
   "cell_type": "code",
   "execution_count": 27,
   "id": "b57b3f8d-3169-4928-b617-fd20242bc15e",
   "metadata": {
    "tags": []
   },
   "outputs": [
    {
     "data": {
      "text/html": [
       "<div>\n",
       "<style scoped>\n",
       "    .dataframe tbody tr th:only-of-type {\n",
       "        vertical-align: middle;\n",
       "    }\n",
       "\n",
       "    .dataframe tbody tr th {\n",
       "        vertical-align: top;\n",
       "    }\n",
       "\n",
       "    .dataframe thead th {\n",
       "        text-align: right;\n",
       "    }\n",
       "</style>\n",
       "<table border=\"1\" class=\"dataframe\">\n",
       "  <thead>\n",
       "    <tr style=\"text-align: right;\">\n",
       "      <th></th>\n",
       "      <th>creation_date</th>\n",
       "      <th>commentaire_usager</th>\n",
       "      <th>type_level_1</th>\n",
       "      <th>type_level_2</th>\n",
       "      <th>count_word</th>\n",
       "      <th>label</th>\n",
       "    </tr>\n",
       "  </thead>\n",
       "  <tbody>\n",
       "    <tr>\n",
       "      <th>8136</th>\n",
       "      <td>2021-11-30</td>\n",
       "      <td>rue vital rue massenet a h matin eclairage pub...</td>\n",
       "      <td>Éclairage / Électricité</td>\n",
       "      <td>Éclairage public allumé le jour</td>\n",
       "      <td>10</td>\n",
       "      <td>25</td>\n",
       "    </tr>\n",
       "    <tr>\n",
       "      <th>16232</th>\n",
       "      <td>2022-07-29</td>\n",
       "      <td>eau coupe tous limmeuble suite a travaux voie ...</td>\n",
       "      <td>Eau</td>\n",
       "      <td>Autres problèmes d'eau</td>\n",
       "      <td>11</td>\n",
       "      <td>41</td>\n",
       "    </tr>\n",
       "    <tr>\n",
       "      <th>6425</th>\n",
       "      <td>2021-12-20</td>\n",
       "      <td>epanchement durine odeur forte</td>\n",
       "      <td>Propreté</td>\n",
       "      <td>Épanchement d'urine</td>\n",
       "      <td>4</td>\n",
       "      <td>46</td>\n",
       "    </tr>\n",
       "    <tr>\n",
       "      <th>3448</th>\n",
       "      <td>2021-07-15</td>\n",
       "      <td>velo quj na bouge depuis annees</td>\n",
       "      <td>Autos, motos, vélos...</td>\n",
       "      <td>Épave de vélo</td>\n",
       "      <td>6</td>\n",
       "      <td>30</td>\n",
       "    </tr>\n",
       "    <tr>\n",
       "      <th>16768</th>\n",
       "      <td>2022-03-21</td>\n",
       "      <td>plan vigipirate non respecte devant misee quai...</td>\n",
       "      <td>Autos, motos, vélos...</td>\n",
       "      <td>Épave de trottinette</td>\n",
       "      <td>22</td>\n",
       "      <td>51</td>\n",
       "    </tr>\n",
       "    <tr>\n",
       "      <th>...</th>\n",
       "      <td>...</td>\n",
       "      <td>...</td>\n",
       "      <td>...</td>\n",
       "      <td>...</td>\n",
       "      <td>...</td>\n",
       "      <td>...</td>\n",
       "    </tr>\n",
       "    <tr>\n",
       "      <th>11342</th>\n",
       "      <td>2021-08-18</td>\n",
       "      <td>presence dun corbeau mort belle taille place l...</td>\n",
       "      <td>Arbres, végétaux et animaux</td>\n",
       "      <td>Autres problèmes d'animaux et d'insectes</td>\n",
       "      <td>13</td>\n",
       "      <td>34</td>\n",
       "    </tr>\n",
       "    <tr>\n",
       "      <th>12022</th>\n",
       "      <td>2022-02-16</td>\n",
       "      <td>sortie impossible</td>\n",
       "      <td>Autos, motos, vélos...</td>\n",
       "      <td>Deux-roues motorisé en stationnement gênant</td>\n",
       "      <td>2</td>\n",
       "      <td>55</td>\n",
       "    </tr>\n",
       "    <tr>\n",
       "      <th>5413</th>\n",
       "      <td>2023-01-29</td>\n",
       "      <td>avaloir obstrue risque dinondation chaussee a ...</td>\n",
       "      <td>Voirie et espace public</td>\n",
       "      <td>Trappes ou grilles au sol</td>\n",
       "      <td>8</td>\n",
       "      <td>28</td>\n",
       "    </tr>\n",
       "    <tr>\n",
       "      <th>862</th>\n",
       "      <td>2022-03-28</td>\n",
       "      <td>face lebouis</td>\n",
       "      <td>Graffitis, tags, affiches et autocollants</td>\n",
       "      <td>Affiches, autocollants ou graffitis sur mobilier</td>\n",
       "      <td>2</td>\n",
       "      <td>8</td>\n",
       "    </tr>\n",
       "    <tr>\n",
       "      <th>15867</th>\n",
       "      <td>2022-02-22</td>\n",
       "      <td>dechets abandonnes</td>\n",
       "      <td>Propreté</td>\n",
       "      <td>Déchets et/ou salissures divers</td>\n",
       "      <td>2</td>\n",
       "      <td>11</td>\n",
       "    </tr>\n",
       "  </tbody>\n",
       "</table>\n",
       "<p>15680 rows × 6 columns</p>\n",
       "</div>"
      ],
      "text/plain": [
       "      creation_date                                 commentaire_usager  \\\n",
       "8136     2021-11-30  rue vital rue massenet a h matin eclairage pub...   \n",
       "16232    2022-07-29  eau coupe tous limmeuble suite a travaux voie ...   \n",
       "6425     2021-12-20                     epanchement durine odeur forte   \n",
       "3448     2021-07-15                    velo quj na bouge depuis annees   \n",
       "16768    2022-03-21  plan vigipirate non respecte devant misee quai...   \n",
       "...             ...                                                ...   \n",
       "11342    2021-08-18  presence dun corbeau mort belle taille place l...   \n",
       "12022    2022-02-16                                  sortie impossible   \n",
       "5413     2023-01-29  avaloir obstrue risque dinondation chaussee a ...   \n",
       "862      2022-03-28                                       face lebouis   \n",
       "15867    2022-02-22                                 dechets abandonnes   \n",
       "\n",
       "                                    type_level_1  \\\n",
       "8136                     Éclairage / Électricité   \n",
       "16232                                        Eau   \n",
       "6425                                    Propreté   \n",
       "3448                     Autos, motos, vélos...    \n",
       "16768                    Autos, motos, vélos...    \n",
       "...                                          ...   \n",
       "11342                Arbres, végétaux et animaux   \n",
       "12022                    Autos, motos, vélos...    \n",
       "5413                     Voirie et espace public   \n",
       "862    Graffitis, tags, affiches et autocollants   \n",
       "15867                                   Propreté   \n",
       "\n",
       "                                            type_level_2  count_word  label  \n",
       "8136                     Éclairage public allumé le jour          10     25  \n",
       "16232                             Autres problèmes d'eau          11     41  \n",
       "6425                                 Épanchement d'urine           4     46  \n",
       "3448                                       Épave de vélo           6     30  \n",
       "16768                               Épave de trottinette          22     51  \n",
       "...                                                  ...         ...    ...  \n",
       "11342           Autres problèmes d'animaux et d'insectes          13     34  \n",
       "12022        Deux-roues motorisé en stationnement gênant           2     55  \n",
       "5413                           Trappes ou grilles au sol           8     28  \n",
       "862     Affiches, autocollants ou graffitis sur mobilier           2      8  \n",
       "15867                    Déchets et/ou salissures divers           2     11  \n",
       "\n",
       "[15680 rows x 6 columns]"
      ]
     },
     "execution_count": 27,
     "metadata": {},
     "output_type": "execute_result"
    }
   ],
   "source": [
    "train_df"
   ]
  },
  {
   "cell_type": "code",
   "execution_count": 28,
   "id": "92a60c48-60b0-4919-b9fa-3251060916e8",
   "metadata": {
    "tags": []
   },
   "outputs": [],
   "source": [
    "nb_labels = len(train_df[\"label\"].unique())\n"
   ]
  },
  {
   "cell_type": "code",
   "execution_count": 29,
   "id": "e8f0212e-0f3a-4138-b3e8-40978b109e2b",
   "metadata": {
    "tags": []
   },
   "outputs": [
    {
     "data": {
      "text/plain": [
       "58"
      ]
     },
     "execution_count": 29,
     "metadata": {},
     "output_type": "execute_result"
    }
   ],
   "source": [
    "nb_labels"
   ]
  },
  {
   "cell_type": "code",
   "execution_count": 30,
   "id": "338e5d1f-fbee-4d61-98b0-b489d13dec4d",
   "metadata": {
    "tags": []
   },
   "outputs": [
    {
     "data": {
      "text/plain": [
       "9     296\n",
       "6     295\n",
       "23    291\n",
       "25    286\n",
       "12    286\n",
       "30    286\n",
       "3     283\n",
       "34    283\n",
       "36    282\n",
       "0     282\n",
       "17    282\n",
       "15    281\n",
       "13    281\n",
       "7     281\n",
       "24    280\n",
       "2     279\n",
       "22    278\n",
       "42    278\n",
       "47    278\n",
       "37    277\n",
       "43    276\n",
       "18    275\n",
       "10    274\n",
       "54    274\n",
       "35    273\n",
       "39    273\n",
       "52    271\n",
       "16    271\n",
       "56    271\n",
       "50    271\n",
       "28    271\n",
       "46    270\n",
       "51    270\n",
       "21    270\n",
       "14    270\n",
       "8     269\n",
       "44    269\n",
       "40    267\n",
       "32    267\n",
       "31    263\n",
       "41    262\n",
       "27    261\n",
       "55    260\n",
       "29    260\n",
       "38    260\n",
       "5     258\n",
       "1     257\n",
       "57    256\n",
       "49    256\n",
       "19    255\n",
       "33    255\n",
       "11    255\n",
       "53    253\n",
       "26    252\n",
       "45    252\n",
       "48    250\n",
       "4     250\n",
       "20    248\n",
       "Name: label, dtype: int64"
      ]
     },
     "execution_count": 30,
     "metadata": {},
     "output_type": "execute_result"
    }
   ],
   "source": [
    "train_df['label'].value_counts()"
   ]
  },
  {
   "cell_type": "code",
   "execution_count": 31,
   "id": "2724226f-58b1-4b6b-9c00-78de40b638e4",
   "metadata": {
    "tags": []
   },
   "outputs": [
    {
     "name": "stderr",
     "output_type": "stream",
     "text": [
      "/tmp/ipykernel_1684389/3888794055.py:5: UserWarning: Matplotlib is currently using module://matplotlib_inline.backend_inline, which is a non-GUI backend, so cannot show the figure.\n",
      "  ax.figure.show()\n"
     ]
    },
    {
     "data": {
      "image/png": "[encoded data removed]",
      "text/plain": [
       "<Figure size 432x288 with 1 Axes>"
      ]
     },
     "metadata": {
      "needs_background": "light"
     },
     "output_type": "display_data"
    }
   ],
   "source": [
    "ax = train_df[\"count_word\"].hist(density=True, bins=50)\n",
    "ax.set_xlabel(\"Longueur\")\n",
    "ax.set_ylabel(\"Fréquence\")\n",
    "ax.set_title(\"Nombre de mots par phrase\")\n",
    "ax.figure.show()"
   ]
  },
  {
   "cell_type": "code",
   "execution_count": 32,
   "id": "c5c405e7-766e-475f-8620-1a7e314e623d",
   "metadata": {
    "tags": []
   },
   "outputs": [
    {
     "name": "stderr",
     "output_type": "stream",
     "text": [
      "/tmp/ipykernel_1684389/2121024345.py:1: SettingWithCopyWarning: \n",
      "A value is trying to be set on a copy of a slice from a DataFrame.\n",
      "Try using .loc[row_indexer,col_indexer] = value instead\n",
      "\n",
      "See the caveats in the documentation: https://pandas.pydata.org/pandas-docs/stable/user_guide/indexing.html#returning-a-view-versus-a-copy\n",
      "  train_df[\"len_utt\"] = train_df[\"commentaire_usager\"].apply(lambda x: len(x))\n",
      "/tmp/ipykernel_1684389/2121024345.py:6: UserWarning: Matplotlib is currently using module://matplotlib_inline.backend_inline, which is a non-GUI backend, so cannot show the figure.\n",
      "  ax.figure.show()\n"
     ]
    },
    {
     "data": {
      "image/png": "[encoded data removed]",
      "text/plain": [
       "<Figure size 432x288 with 1 Axes>"
      ]
     },
     "metadata": {
      "needs_background": "light"
     },
     "output_type": "display_data"
    }
   ],
   "source": [
    "train_df[\"len_utt\"] = train_df[\"commentaire_usager\"].apply(lambda x: len(x))\n",
    "ax = train_df[\"len_utt\"].hist(density=True, bins=50)\n",
    "ax.set_xlabel(\"Longueur\")\n",
    "ax.set_ylabel(\"Fréquence\")\n",
    "ax.set_title(\"Nombre de caractere par phrase\")\n",
    "ax.figure.show()"
   ]
  },
  {
   "cell_type": "code",
   "execution_count": 33,
   "id": "6e872500-f22a-4772-8c1f-def0698aed8b",
   "metadata": {
    "tags": []
   },
   "outputs": [
    {
     "data": {
      "text/plain": [
       "False"
      ]
     },
     "execution_count": 33,
     "metadata": {},
     "output_type": "execute_result"
    }
   ],
   "source": [
    "(train_df[\"len_utt\"] > 512).any()"
   ]
  },
  {
   "cell_type": "code",
   "execution_count": 34,
   "id": "56d1c39a-f034-4fdb-8f76-5f77651ccd77",
   "metadata": {
    "tags": []
   },
   "outputs": [
    {
     "data": {
      "text/plain": [
       "0.00909090909090909"
      ]
     },
     "execution_count": 34,
     "metadata": {},
     "output_type": "execute_result"
    }
   ],
   "source": [
    "5000/550000"
   ]
  },
  {
   "cell_type": "code",
   "execution_count": 35,
   "id": "242e06f4-c4ba-43f3-933c-7a0046379ed5",
   "metadata": {
    "tags": []
   },
   "outputs": [],
   "source": [
    "def tokenize_batch(samples, tokenizer):\n",
    "    text = [sample[\"commentaire_usager\"] for sample in samples]\n",
    "    labels = torch.tensor([sample[\"label\"] for sample in samples])\n",
    "    str_labels = [sample[\"type_level_2\"] for sample in samples]\n",
    " \n",
    "    tokens = tokenizer(text, padding=\"longest\", return_tensors=\"pt\")\n",
    "\n",
    "    return {\"input_ids\": tokens.input_ids, \"attention_mask\": tokens.attention_mask, \"labels\": labels, \"str_labels\": str_labels, \"sentences\": text}"
   ]
  },
  {
   "cell_type": "code",
   "execution_count": 36,
   "id": "5223f58a-8101-4e20-9398-c893c7f3a973",
   "metadata": {
    "tags": []
   },
   "outputs": [],
   "source": [
    "train_dataset, val_dataset = dataset.values()"
   ]
  },
  {
   "cell_type": "code",
   "execution_count": 37,
   "id": "0d42660a-a6fc-482b-9490-c69d230f7e59",
   "metadata": {
    "tags": []
   },
   "outputs": [
    {
     "data": {
      "text/plain": [
       "{'input_ids': tensor([[    5,   245,  8299,  2247,     8,   276,  9709,  2232, 13429, 11192,\n",
       "           4783,  8798,  4229,  1120,  2277,  1126,  1222,     8,   216,   483,\n",
       "              6,     1,     1,     1,     1,     1,     1,     1,     1,     1,\n",
       "              1,     1,     1,     1,     1,     1],\n",
       "         [    5,  5061,  9635, 14639,  7215,   839,    21, 24073,   252,  5081,\n",
       "            117, 29525,    10,   839,    21, 24073,   252,     6,     1,     1,\n",
       "              1,     1,     1,     1,     1,     1,     1,     1,     1,     1,\n",
       "              1,     1,     1,     1,     1,     1],\n",
       "         [    5,  6688,  7830,   185,     8,  4665,   744,    10,  1024,     6,\n",
       "              1,     1,     1,     1,     1,     1,     1,     1,     1,     1,\n",
       "              1,     1,     1,     1,     1,     1,     1,     1,     1,     1,\n",
       "              1,     1,     1,     1,     1,     1],\n",
       "         [    5,    66,    46,    73,   616,    90,  1293,    21,  3089,   762,\n",
       "              6,     1,     1,     1,     1,     1,     1,     1,     1,     1,\n",
       "              1,     1,     1,     1,     1,     1,     1,     1,     1,     1,\n",
       "              1,     1,     1,     1,     1,     1],\n",
       "         [    5,   976, 13204,  4147,     6,     1,     1,     1,     1,     1,\n",
       "              1,     1,     1,     1,     1,     1,     1,     1,     1,     1,\n",
       "              1,     1,     1,     1,     1,     1,     1,     1,     1,     1,\n",
       "              1,     1,     1,     1,     1,     1],\n",
       "         [    5,  3595,   382,  4068,    21, 16517,     6,     1,     1,     1,\n",
       "              1,     1,     1,     1,     1,     1,     1,     1,     1,     1,\n",
       "              1,     1,     1,     1,     1,     1,     1,     1,     1,     1,\n",
       "              1,     1,     1,     1,     1,     1],\n",
       "         [    5,     8,  5927,    10,  4488,  4673, 19561,    10,   557,   498,\n",
       "              8, 13615,  1454,   525,   839,    48,  6147,   487,   895,     6,\n",
       "              1,     1,     1,     1,     1,     1,     1,     1,     1,     1,\n",
       "              1,     1,     1,     1,     1,     1],\n",
       "         [    5, 11735,  5907,    10, 14944,   540, 12200, 10492, 26015,    14,\n",
       "             35,  1656,    79,   484,    14,   199, 23030,    20,  7537,   730,\n",
       "              6,     1,     1,     1,     1,     1,     1,     1,     1,     1,\n",
       "              1,     1,     1,     1,     1,     1],\n",
       "         [    5,    21, 23262,    33,  5280,     6,     1,     1,     1,     1,\n",
       "              1,     1,     1,     1,     1,     1,     1,     1,     1,     1,\n",
       "              1,     1,     1,     1,     1,     1,     1,     1,     1,     1,\n",
       "              1,     1,     1,     1,     1,     1],\n",
       "         [    5, 15892,  1259,  3284,  3784,  4074,   329,    21,  1944,  4656,\n",
       "              8, 20401,   113,     6,     1,     1,     1,     1,     1,     1,\n",
       "              1,     1,     1,     1,     1,     1,     1,     1,     1,     1,\n",
       "              1,     1,     1,     1,     1,     1],\n",
       "         [    5,    33,     8, 13989,    17,  2683,    18,    70,    60,  2556,\n",
       "          20726,    21,  8159,    35,   173,  1172,    18,    59,  4402,  1434,\n",
       "            173,  1172,  3179,   886, 13940,    18,    70,   354,   839,     8,\n",
       "          25347,  4765,   131,  7167,   172,     6],\n",
       "         [    5,  9622,  1943,  8939, 14623,    55,     6,     1,     1,     1,\n",
       "              1,     1,     1,     1,     1,     1,     1,     1,     1,     1,\n",
       "              1,     1,     1,     1,     1,     1,     1,     1,     1,     1,\n",
       "              1,     1,     1,     1,     1,     1],\n",
       "         [    5,   303, 13940,     6,     1,     1,     1,     1,     1,     1,\n",
       "              1,     1,     1,     1,     1,     1,     1,     1,     1,     1,\n",
       "              1,     1,     1,     1,     1,     1,     1,     1,     1,     1,\n",
       "              1,     1,     1,     1,     1,     1],\n",
       "         [    5,   927,  1627,  6718,     8,   276,  9889,  4068,    17, 10723,\n",
       "            172,    17,   252,  3743,   839,   176,   175,   511,     6,     1,\n",
       "              1,     1,     1,     1,     1,     1,     1,     1,     1,     1,\n",
       "              1,     1,     1,     1,     1,     1],\n",
       "         [    5,   176,   250,     6,     1,     1,     1,     1,     1,     1,\n",
       "              1,     1,     1,     1,     1,     1,     1,     1,     1,     1,\n",
       "              1,     1,     1,     1,     1,     1,     1,     1,     1,     1,\n",
       "              1,     1,     1,     1,     1,     1],\n",
       "         [    5,    17, 22360,   860, 17524,  3383, 11147,   670,  2281,   751,\n",
       "            480,    49,    41,    77,  1396,  3960,     6,     1,     1,     1,\n",
       "              1,     1,     1,     1,     1,     1,     1,     1,     1,     1,\n",
       "              1,     1,     1,     1,     1,     1]]),\n",
       " 'attention_mask': tensor([[1, 1, 1, 1, 1, 1, 1, 1, 1, 1, 1, 1, 1, 1, 1, 1, 1, 1, 1, 1, 1, 0, 0, 0,\n",
       "          0, 0, 0, 0, 0, 0, 0, 0, 0, 0, 0, 0],\n",
       "         [1, 1, 1, 1, 1, 1, 1, 1, 1, 1, 1, 1, 1, 1, 1, 1, 1, 1, 0, 0, 0, 0, 0, 0,\n",
       "          0, 0, 0, 0, 0, 0, 0, 0, 0, 0, 0, 0],\n",
       "         [1, 1, 1, 1, 1, 1, 1, 1, 1, 1, 0, 0, 0, 0, 0, 0, 0, 0, 0, 0, 0, 0, 0, 0,\n",
       "          0, 0, 0, 0, 0, 0, 0, 0, 0, 0, 0, 0],\n",
       "         [1, 1, 1, 1, 1, 1, 1, 1, 1, 1, 1, 0, 0, 0, 0, 0, 0, 0, 0, 0, 0, 0, 0, 0,\n",
       "          0, 0, 0, 0, 0, 0, 0, 0, 0, 0, 0, 0],\n",
       "         [1, 1, 1, 1, 1, 0, 0, 0, 0, 0, 0, 0, 0, 0, 0, 0, 0, 0, 0, 0, 0, 0, 0, 0,\n",
       "          0, 0, 0, 0, 0, 0, 0, 0, 0, 0, 0, 0],\n",
       "         [1, 1, 1, 1, 1, 1, 1, 0, 0, 0, 0, 0, 0, 0, 0, 0, 0, 0, 0, 0, 0, 0, 0, 0,\n",
       "          0, 0, 0, 0, 0, 0, 0, 0, 0, 0, 0, 0],\n",
       "         [1, 1, 1, 1, 1, 1, 1, 1, 1, 1, 1, 1, 1, 1, 1, 1, 1, 1, 1, 1, 0, 0, 0, 0,\n",
       "          0, 0, 0, 0, 0, 0, 0, 0, 0, 0, 0, 0],\n",
       "         [1, 1, 1, 1, 1, 1, 1, 1, 1, 1, 1, 1, 1, 1, 1, 1, 1, 1, 1, 1, 1, 0, 0, 0,\n",
       "          0, 0, 0, 0, 0, 0, 0, 0, 0, 0, 0, 0],\n",
       "         [1, 1, 1, 1, 1, 1, 0, 0, 0, 0, 0, 0, 0, 0, 0, 0, 0, 0, 0, 0, 0, 0, 0, 0,\n",
       "          0, 0, 0, 0, 0, 0, 0, 0, 0, 0, 0, 0],\n",
       "         [1, 1, 1, 1, 1, 1, 1, 1, 1, 1, 1, 1, 1, 1, 0, 0, 0, 0, 0, 0, 0, 0, 0, 0,\n",
       "          0, 0, 0, 0, 0, 0, 0, 0, 0, 0, 0, 0],\n",
       "         [1, 1, 1, 1, 1, 1, 1, 1, 1, 1, 1, 1, 1, 1, 1, 1, 1, 1, 1, 1, 1, 1, 1, 1,\n",
       "          1, 1, 1, 1, 1, 1, 1, 1, 1, 1, 1, 1],\n",
       "         [1, 1, 1, 1, 1, 1, 1, 0, 0, 0, 0, 0, 0, 0, 0, 0, 0, 0, 0, 0, 0, 0, 0, 0,\n",
       "          0, 0, 0, 0, 0, 0, 0, 0, 0, 0, 0, 0],\n",
       "         [1, 1, 1, 1, 0, 0, 0, 0, 0, 0, 0, 0, 0, 0, 0, 0, 0, 0, 0, 0, 0, 0, 0, 0,\n",
       "          0, 0, 0, 0, 0, 0, 0, 0, 0, 0, 0, 0],\n",
       "         [1, 1, 1, 1, 1, 1, 1, 1, 1, 1, 1, 1, 1, 1, 1, 1, 1, 1, 1, 0, 0, 0, 0, 0,\n",
       "          0, 0, 0, 0, 0, 0, 0, 0, 0, 0, 0, 0],\n",
       "         [1, 1, 1, 1, 0, 0, 0, 0, 0, 0, 0, 0, 0, 0, 0, 0, 0, 0, 0, 0, 0, 0, 0, 0,\n",
       "          0, 0, 0, 0, 0, 0, 0, 0, 0, 0, 0, 0],\n",
       "         [1, 1, 1, 1, 1, 1, 1, 1, 1, 1, 1, 1, 1, 1, 1, 1, 1, 0, 0, 0, 0, 0, 0, 0,\n",
       "          0, 0, 0, 0, 0, 0, 0, 0, 0, 0, 0, 0]]),\n",
       " 'labels': tensor([32,  4, 36,  6,  4, 53, 57, 33, 54, 31, 30, 44, 23, 32, 23, 42]),\n",
       " 'str_labels': [' WC publics ',\n",
       "  ' Lampadaire en mauvais état',\n",
       "  ' Panneaux routiers',\n",
       "  ' Éclairage public éteint la nuit',\n",
       "  ' Lampadaire en mauvais état',\n",
       "  ' Épave de deux-roues motorisé',\n",
       "  ' Gravats ou déchets de chantier',\n",
       "  ' Herbes éparses',\n",
       "  ' Affiches sur mur, façade sur rue, pont',\n",
       "  ' Arbre dangereux ou en mauvais état',\n",
       "  ' Épave de vélo',\n",
       "  ' Boîte aux lettres (La Poste)',\n",
       "  ' Trottoirs',\n",
       "  ' WC publics ',\n",
       "  ' Trottoirs',\n",
       "  ' Chantier '],\n",
       " 'sentences': ['partie wc fonctionne deau savon meme distributeur exterieur gel hydroalcoolique vide faites travailler decaux',\n",
       "  'bonjour band voyous rue archereau casse tous lampadaires rue archereau',\n",
       "  'panneau brule detritus sol',\n",
       "  'tout quai henri iv noir',\n",
       "  'fils metallique',\n",
       "  'assurance ni plaque immatriculation',\n",
       "  'dechets chantier gravats bois etc deposer voie public rue seveste merci',\n",
       "  'herbes folles poussent haut deja alerte reponse ete faite comme quoi etait regle desherbe ca',\n",
       "  'incitation a haine',\n",
       "  'zero entretien hyper dangereux enfants ronces depassent',\n",
       "  'a defaut lexistence dune categorie adaptee cargo dun velo cargo gare milieu trottoir dune petite rue definitivement genant',\n",
       "  'pres restaurant giulia',\n",
       "  'trois trottoir',\n",
       "  'grandes quantites deau sortent plaque liberant leau nettoyage rue depuis moins heures',\n",
       "  'depuis mois',\n",
       "  'larriere supermarche donnant boulevard beaumarchais nest salubre']}"
      ]
     },
     "execution_count": 37,
     "metadata": {},
     "output_type": "execute_result"
    }
   ],
   "source": [
    "val_dataloader = DataLoader(val_dataset, collate_fn=functools.partial(tokenize_batch, tokenizer=tokenizer), batch_size=16)\n",
    "next(iter(val_dataloader))"
   ]
  },
  {
   "cell_type": "code",
   "execution_count": 38,
   "id": "23618247-a8e8-43b4-954f-2ebc680300de",
   "metadata": {
    "tags": []
   },
   "outputs": [],
   "source": [
    "num_labels=58"
   ]
  },
  {
   "cell_type": "code",
   "execution_count": 39,
   "id": "80a40d0c-3a41-484c-92cd-407e481debcb",
   "metadata": {
    "tags": []
   },
   "outputs": [
    {
     "data": {
      "text/plain": [
       "Dataset({\n",
       "    features: ['creation_date', 'commentaire_usager', 'type_level_1', 'type_level_2', 'count_word', 'label'],\n",
       "    num_rows: 15680\n",
       "})"
      ]
     },
     "execution_count": 39,
     "metadata": {},
     "output_type": "execute_result"
    }
   ],
   "source": [
    "dataset[\"train\"]"
   ]
  },
  {
   "cell_type": "code",
   "execution_count": 40,
   "id": "f0d3c319-146f-48ca-8dcb-1608eaa7fd9b",
   "metadata": {
    "tags": []
   },
   "outputs": [
    {
     "data": {
      "text/plain": [
       "'\\ntest_dataloader = DataLoader(\\n    dataset[\"test\"],\\n    batch_size=16,\\n    shuffle=False,\\n    collate_fn=functools.partial(tokenize_batch, tokenizer=tokenizer)\\n)'"
      ]
     },
     "execution_count": 40,
     "metadata": {},
     "output_type": "execute_result"
    }
   ],
   "source": [
    "train_dataloader = DataLoader(\n",
    "    dataset[\"train\"],\n",
    "    batch_size=16,\n",
    "    shuffle=True,\n",
    "    collate_fn=functools.partial(tokenize_batch, tokenizer=tokenizer)\n",
    ")\n",
    "val_dataloader = DataLoader(\n",
    "    dataset[\"validation\"],\n",
    "    batch_size=16,\n",
    "    shuffle=False,\n",
    "    collate_fn=functools.partial(tokenize_batch, tokenizer=tokenizer)\n",
    ")\n",
    "'''\n",
    "test_dataloader = DataLoader(\n",
    "    dataset[\"test\"],\n",
    "    batch_size=16,\n",
    "    shuffle=False,\n",
    "    collate_fn=functools.partial(tokenize_batch, tokenizer=tokenizer)\n",
    ")'''"
   ]
  },
  {
   "cell_type": "code",
   "execution_count": null,
   "id": "67c4aa74-5164-4b78-aa75-60b48017ad08",
   "metadata": {
    "tags": []
   },
   "outputs": [],
   "source": []
  },
  {
   "cell_type": "code",
   "execution_count": 41,
   "id": "7a3bea7a-f421-4f81-b3d4-747c872c032c",
   "metadata": {
    "tags": []
   },
   "outputs": [],
   "source": [
    "batch = next(iter(train_dataloader))"
   ]
  },
  {
   "cell_type": "code",
   "execution_count": 42,
   "id": "baeb0721-afca-4a88-bcaa-7c6ebb06c8f7",
   "metadata": {
    "tags": []
   },
   "outputs": [
    {
     "name": "stdout",
     "output_type": "stream",
     "text": [
      "<s> cest quand</s><pad><pad><pad><pad><pad><pad><pad><pad><pad><pad><pad><pad><pad><pad><pad><pad><pad><pad><pad><pad><pad><pad><pad><pad><pad><pad>\n",
      "<s> forte odeur urine</s><pad><pad><pad><pad><pad><pad><pad><pad><pad><pad><pad><pad><pad><pad><pad><pad><pad><pad><pad><pad><pad><pad><pad><pad><pad>\n",
      "<s> vegetaux piquants debordants message protege</s><pad><pad><pad><pad><pad><pad><pad><pad><pad><pad><pad><pad><pad><pad><pad><pad><pad>\n",
      "<s> bonjour merci personnes viennent nettoyer cette partie rue jet karcher parle daccord cest tellement sale quil faudrait brosser produit special car jet cela nettoie</s>\n",
      "<s> feu ba mal oriente</s><pad><pad><pad><pad><pad><pad><pad><pad><pad><pad><pad><pad><pad><pad><pad><pad><pad><pad><pad><pad><pad><pad><pad><pad>\n",
      "<s> trottoir face numero</s><pad><pad><pad><pad><pad><pad><pad><pad><pad><pad><pad><pad><pad><pad><pad><pad><pad><pad><pad><pad><pad><pad><pad><pad><pad><pad>\n",
      "<s> revetement degrade fissure</s><pad><pad><pad><pad><pad><pad><pad><pad><pad><pad><pad><pad><pad><pad><pad><pad><pad><pad><pad><pad><pad><pad><pad>\n",
      "<s> pisse encore pisse</s><pad><pad><pad><pad><pad><pad><pad><pad><pad><pad><pad><pad><pad><pad><pad><pad><pad><pad><pad><pad><pad><pad><pad><pad><pad><pad>\n",
      "<s> pigeonne ecrase devant rue</s><pad><pad><pad><pad><pad><pad><pad><pad><pad><pad><pad><pad><pad><pad><pad><pad><pad><pad><pad><pad><pad>\n",
      "<s> square yvette chauvire wc public bouches trop papier</s><pad><pad><pad><pad><pad><pad><pad><pad><pad><pad><pad><pad><pad><pad><pad><pad><pad>\n",
      "<s> bonjour renovation remise peinture estelle envisageable bonne journee</s><pad><pad><pad><pad><pad><pad><pad><pad><pad><pad><pad><pad><pad><pad><pad><pad><pad><pad>\n",
      "<s> stationnement illegal desordonne trottinettes bloque trottoir</s><pad><pad><pad><pad><pad><pad><pad><pad><pad><pad><pad><pad><pad><pad><pad><pad><pad><pad>\n",
      "<s> plus pollution visuelle represente danger periodes grand vent</s><pad><pad><pad><pad><pad><pad><pad><pad><pad><pad><pad><pad><pad><pad><pad><pad><pad><pad>\n",
      "<s> vii panne</s><pad><pad><pad><pad><pad><pad><pad><pad><pad><pad><pad><pad><pad><pad><pad><pad><pad><pad><pad><pad><pad><pad><pad><pad><pad><pad>\n",
      "<s> plot beton a enlever chaussee car chantier termine fait faire ecart cyclistes egalement visible nuit dangereux veuillez enlever</s><pad><pad><pad><pad><pad><pad><pad>\n",
      "<s> tous jours feu clignotant traverse poussettes peril vie pouvez gerer cela duree cela arrive tout temp</s><pad><pad><pad><pad><pad><pad><pad><pad><pad>\n"
     ]
    },
    {
     "data": {
      "text/plain": [
       "tensor([13, 46,  2, 14, 18, 29, 23, 46, 34, 32,  5, 51, 51,  6, 29, 18])"
      ]
     },
     "execution_count": 42,
     "metadata": {},
     "output_type": "execute_result"
    }
   ],
   "source": [
    "print(\"\\n\".join(tokenizer.batch_decode(batch[\"input_ids\"])))\n",
    "batch[\"labels\"]"
   ]
  },
  {
   "cell_type": "code",
   "execution_count": 43,
   "id": "9f9d5f49-cd45-40a4-9d45-bacbd2945007",
   "metadata": {
    "tags": []
   },
   "outputs": [],
   "source": [
    "class LightningModel(pl.LightningModule):\n",
    "    def __init__(self, model_name, num_labels, lr, weight_decay, from_scratch=False):\n",
    "        super().__init__()\n",
    "        self.save_hyperparameters()\n",
    "        if from_scratch:\n",
    "            # Si `from_scratch` est vrai, on charge uniquement la config (nombre de couches, hidden size, etc.) et pas les poids du modèle\n",
    "            config = AutoConfig.from_pretrained(\n",
    "                model_name, num_labels=num_labels\n",
    "            )\n",
    "            self.model = AutoModelForSequenceClassification.from_config(config)\n",
    "        else:\n",
    "            # Cette méthode permet de télécharger le bon modèle pré-entraîné directement depuis le Hub de HuggingFace sur lequel sont stockés de nombreux modèles\n",
    "            self.model = AutoModelForSequenceClassification.from_pretrained(\n",
    "                model_name, num_labels=num_labels\n",
    "            )\n",
    "        self.lr = lr\n",
    "        self.weight_decay = weight_decay\n",
    "        self.num_labels = self.model.num_labels\n",
    "\n",
    "    def forward(self, batch):\n",
    "        return self.model(\n",
    "            input_ids=batch[\"input_ids\"],\n",
    "            attention_mask=batch[\"attention_mask\"]\n",
    "        )\n",
    "\n",
    "    def training_step(self, batch):\n",
    "        out = self.forward(batch)\n",
    "\n",
    "        logits = out.logits\n",
    "        # -------- MASKED --------\n",
    "        loss_fn = torch.nn.CrossEntropyLoss()\n",
    "        loss = loss_fn(logits.view(-1, self.num_labels), batch[\"labels\"].view(-1))\n",
    "\n",
    "        # ------ END MASKED ------\n",
    "\n",
    "        self.log(\"train/loss\", loss)\n",
    "\n",
    "        return loss\n",
    "\n",
    "    def validation_step(self, batch, batch_index):\n",
    "        labels = batch[\"labels\"]\n",
    "        out = self.forward(batch)\n",
    "\n",
    "        preds = torch.max(out.logits, -1).indices\n",
    "        # -------- MASKED --------\n",
    "        acc = (batch[\"labels\"] == preds).float().mean()\n",
    "        # ------ END MASKED ------\n",
    "        self.log(\"valid/acc\", acc)\n",
    "\n",
    "        f1 = f1_score(batch[\"labels\"].cpu().tolist(), preds.cpu().tolist(), average=\"macro\")\n",
    "        self.log(\"valid/f1\", f1)\n",
    "\n",
    "    def predict_step(self, batch, batch_idx):\n",
    "        \"\"\"La fonction predict step facilite la prédiction de données. Elle est\n",
    "        similaire à `validation_step`, sans le calcul des métriques.\n",
    "        \"\"\"\n",
    "        out = self.forward(batch)\n",
    "\n",
    "        return torch.max(out.logits, -1).indices\n",
    "\n",
    "    def configure_optimizers(self):\n",
    "        return torch.optim.AdamW(\n",
    "            self.model.parameters(), lr=self.lr, weight_decay=self.weight_decay\n",
    "        )"
   ]
  },
  {
   "cell_type": "code",
   "execution_count": 44,
   "id": "c02efa54-ea0c-406f-8a91-60e98d62d005",
   "metadata": {
    "tags": []
   },
   "outputs": [
    {
     "name": "stderr",
     "output_type": "stream",
     "text": [
      "Some weights of the model checkpoint at camembert-base were not used when initializing CamembertForSequenceClassification: ['lm_head.dense.bias', 'lm_head.layer_norm.weight', 'roberta.pooler.dense.bias', 'lm_head.bias', 'lm_head.layer_norm.bias', 'lm_head.dense.weight', 'roberta.pooler.dense.weight']\n",
      "- This IS expected if you are initializing CamembertForSequenceClassification from the checkpoint of a model trained on another task or with another architecture (e.g. initializing a BertForSequenceClassification model from a BertForPreTraining model).\n",
      "- This IS NOT expected if you are initializing CamembertForSequenceClassification from the checkpoint of a model that you expect to be exactly identical (initializing a BertForSequenceClassification model from a BertForSequenceClassification model).\n",
      "Some weights of CamembertForSequenceClassification were not initialized from the model checkpoint at camembert-base and are newly initialized: ['classifier.dense.weight', 'classifier.out_proj.bias', 'classifier.dense.bias', 'classifier.out_proj.weight']\n",
      "You should probably TRAIN this model on a down-stream task to be able to use it for predictions and inference.\n"
     ]
    }
   ],
   "source": [
    "lightning_model = LightningModel(\"camembert-base\", num_labels, lr=3e-5, weight_decay=0.)"
   ]
  },
  {
   "cell_type": "code",
   "execution_count": 45,
   "id": "0940fd88-134d-4633-b287-31e6fec387ea",
   "metadata": {
    "tags": []
   },
   "outputs": [
    {
     "name": "stderr",
     "output_type": "stream",
     "text": [
      "/home/pc/anaconda3/lib/python3.9/site-packages/torch/cuda/__init__.py:546: UserWarning: Can't initialize NVML\n",
      "  warnings.warn(\"Can't initialize NVML\")\n",
      "/home/pc/anaconda3/lib/python3.9/site-packages/torch/cuda/__init__.py:651: UserWarning: CUDA initialization: CUDA unknown error - this may be due to an incorrectly set up environment, e.g. changing env variable CUDA_VISIBLE_DEVICES after program start. Setting the available devices to be zero. (Triggered internally at ../c10/cuda/CUDAFunctions.cpp:109.)\n",
      "  return torch._C._cuda_getDeviceCount() if nvml_count < 0 else nvml_count\n",
      "GPU available: False, used: False\n",
      "TPU available: False, using: 0 TPU cores\n",
      "IPU available: False, using: 0 IPUs\n",
      "HPU available: False, using: 0 HPUs\n"
     ]
    },
    {
     "name": "stdout",
     "output_type": "stream",
     "text": [
      "huggingface/tokenizers: The current process just got forked, after parallelism has already been used. Disabling parallelism to avoid deadlocks...\n",
      "To disable this warning, you can either:\n",
      "\t- Avoid using `tokenizers` before the fork if possible\n",
      "\t- Explicitly set the environment variable TOKENIZERS_PARALLELISM=(true | false)\n"
     ]
    },
    {
     "name": "stderr",
     "output_type": "stream",
     "text": [
      "/home/pc/anaconda3/lib/python3.9/site-packages/pytorch_lightning/trainer/connectors/logger_connector/logger_connector.py:67: UserWarning: Starting from v1.9.0, `tensorboardX` has been removed as a dependency of the `pytorch_lightning` package, due to potential conflicts with other packages in the ML ecosystem. For this reason, `logger=True` will use `CSVLogger` as the default logger, unless the `tensorboard` or `tensorboardX` packages are found. Please `pip install lightning[extra]` or one of them to enable TensorBoard support by default\n",
      "  warning_cache.warn(\n"
     ]
    }
   ],
   "source": [
    "## Lancer l'entraînement\n",
    "model_checkpoint = pl.callbacks.ModelCheckpoint(monitor=\"valid/acc\", mode=\"max\")\n",
    "\n",
    "camembert_trainer = pl.Trainer(\n",
    "    max_epochs=20,\n",
    "\n",
    "    callbacks=[\n",
    "        pl.callbacks.EarlyStopping(monitor=\"valid/acc\", patience=4, mode=\"max\"),\n",
    "        model_checkpoint,\n",
    "    ]\n",
    ")"
   ]
  },
  {
   "cell_type": "code",
   "execution_count": null,
   "id": "46bf3639",
   "metadata": {},
   "outputs": [],
   "source": []
  },
  {
   "cell_type": "code",
   "execution_count": 66,
   "id": "29926cae",
   "metadata": {},
   "outputs": [
    {
     "name": "stdout",
     "output_type": "stream",
     "text": [
      "True\n"
     ]
    }
   ],
   "source": [
    "import torch\n",
    "print(torch.cuda.is_available())"
   ]
  },
  {
   "cell_type": "code",
   "execution_count": 69,
   "id": "af7d4426",
   "metadata": {},
   "outputs": [],
   "source": [
    "device='cuda'\n"
   ]
  },
  {
   "cell_type": "code",
   "execution_count": null,
   "id": "161e4ef5-d807-4d8c-9031-5cc003846f9b",
   "metadata": {
    "tags": []
   },
   "outputs": [
    {
     "name": "stderr",
     "output_type": "stream",
     "text": [
      "\n",
      "  | Name  | Type                               | Params\n",
      "-------------------------------------------------------------\n",
      "0 | model | CamembertForSequenceClassification | 110 M \n",
      "-------------------------------------------------------------\n",
      "110 M     Trainable params\n",
      "0         Non-trainable params\n",
      "110 M     Total params\n",
      "442.666   Total estimated model params size (MB)\n"
     ]
    },
    {
     "data": {
      "application/vnd.jupyter.widget-view+json": {
       "model_id": "",
       "version_major": 2,
       "version_minor": 0
      },
      "text/plain": [
       "Sanity Checking: 0it [00:00, ?it/s]"
      ]
     },
     "metadata": {},
     "output_type": "display_data"
    },
    {
     "name": "stderr",
     "output_type": "stream",
     "text": [
      "/home/pc/anaconda3/lib/python3.9/site-packages/pytorch_lightning/trainer/connectors/data_connector.py:432: PossibleUserWarning: The dataloader, val_dataloader, does not have many workers which may be a bottleneck. Consider increasing the value of the `num_workers` argument` (try 12 which is the number of cpus on this machine) in the `DataLoader` init to improve performance.\n",
      "  rank_zero_warn(\n",
      "/home/pc/anaconda3/lib/python3.9/site-packages/pytorch_lightning/utilities/data.py:76: UserWarning: Trying to infer the `batch_size` from an ambiguous collection. The batch size we found is 16. To avoid any miscalculations, use `self.log(..., batch_size=batch_size)`.\n",
      "  warning_cache.warn(\n",
      "/home/pc/anaconda3/lib/python3.9/site-packages/pytorch_lightning/trainer/connectors/data_connector.py:432: PossibleUserWarning: The dataloader, train_dataloader, does not have many workers which may be a bottleneck. Consider increasing the value of the `num_workers` argument` (try 12 which is the number of cpus on this machine) in the `DataLoader` init to improve performance.\n",
      "  rank_zero_warn(\n"
     ]
    },
    {
     "data": {
      "application/vnd.jupyter.widget-view+json": {
       "model_id": "e37353b46d6b4578980fa292e72562fc",
       "version_major": 2,
       "version_minor": 0
      },
      "text/plain": [
       "Training: 0it [00:00, ?it/s]"
      ]
     },
     "metadata": {},
     "output_type": "display_data"
    }
   ],
   "source": [
    "import time\n",
    "\n",
    "t0 = time.time()\n",
    "camembert_trainer.fit(lightning_model, train_dataloaders=train_dataloader, val_dataloaders=val_dataloader)\n",
    "t1 = time.time()\n",
    "\n",
    "total = t1-t0\n",
    "print(total)"
   ]
  },
  {
   "cell_type": "code",
   "execution_count": 40,
   "id": "c3bcb576-0690-4f1a-9cf1-4f504366b2b3",
   "metadata": {
    "tags": []
   },
   "outputs": [
    {
     "name": "stderr",
     "output_type": "stream",
     "text": [
      "Some weights of the model checkpoint at camembert-base were not used when initializing CamembertForSequenceClassification: ['roberta.pooler.dense.weight', 'lm_head.bias', 'lm_head.layer_norm.weight', 'lm_head.dense.weight', 'roberta.pooler.dense.bias', 'lm_head.dense.bias', 'lm_head.layer_norm.bias']\n",
      "- This IS expected if you are initializing CamembertForSequenceClassification from the checkpoint of a model trained on another task or with another architecture (e.g. initializing a BertForSequenceClassification model from a BertForPreTraining model).\n",
      "- This IS NOT expected if you are initializing CamembertForSequenceClassification from the checkpoint of a model that you expect to be exactly identical (initializing a BertForSequenceClassification model from a BertForSequenceClassification model).\n",
      "Some weights of CamembertForSequenceClassification were not initialized from the model checkpoint at camembert-base and are newly initialized: ['classifier.out_proj.weight', 'classifier.dense.weight', 'classifier.dense.bias', 'classifier.out_proj.bias']\n",
      "You should probably TRAIN this model on a down-stream task to be able to use it for predictions and inference.\n"
     ]
    }
   ],
   "source": [
    "lightning_model = LightningModel.load_from_checkpoint(checkpoint_path=model_checkpoint.best_model_path)"
   ]
  },
  {
   "cell_type": "code",
   "execution_count": null,
   "id": "0254ae66-3977-48d7-908a-b2f2b2915bd8",
   "metadata": {},
   "outputs": [],
   "source": [
    "#lightning_model = LightningModel.load_from_checkpoint(checkpoint_path='/home/jovyan/work/Classification_txt_dmr/lightning_logs/version_4/checkpoints/epoch=0-step=1617.ckpt')"
   ]
  },
  {
   "cell_type": "code",
   "execution_count": 43,
   "id": "e9bde418-f327-41d2-9da6-209e0a3390f1",
   "metadata": {
    "tags": []
   },
   "outputs": [
    {
     "data": {
      "text/plain": [
       "'/home/jovyan/work/Classification_txt_dmr/lightning_logs/version_4/checkpoints/epoch=0-step=1617.ckpt'"
      ]
     },
     "execution_count": 43,
     "metadata": {},
     "output_type": "execute_result"
    }
   ],
   "source": [
    "model_checkpoint.best_model_path"
   ]
  },
  {
   "cell_type": "code",
   "execution_count": null,
   "id": "4f320e69-0b3c-4011-af93-255b5daddb83",
   "metadata": {
    "tags": []
   },
   "outputs": [],
   "source": [
    "lightning_model.eval()"
   ]
  },
  {
   "cell_type": "code",
   "execution_count": null,
   "id": "4764f481-5060-4a5d-89cf-c76577c5a7b9",
   "metadata": {
    "tags": []
   },
   "outputs": [],
   "source": [
    "len(df)"
   ]
  },
  {
   "cell_type": "code",
   "execution_count": null,
   "id": "4a560079-3ea7-47a0-8dbb-7ba7657c7f2c",
   "metadata": {},
   "outputs": [],
   "source": []
  },
  {
   "cell_type": "code",
   "execution_count": 41,
   "id": "9a535658-381e-4984-9287-8b26ee9782fd",
   "metadata": {
    "tags": []
   },
   "outputs": [
    {
     "name": "stderr",
     "output_type": "stream",
     "text": [
      "/opt/conda/lib/python3.10/site-packages/pytorch_lightning/trainer/connectors/data_connector.py:432: PossibleUserWarning: The dataloader, val_dataloader, does not have many workers which may be a bottleneck. Consider increasing the value of the `num_workers` argument` (try 8 which is the number of cpus on this machine) in the `DataLoader` init to improve performance.\n",
      "  rank_zero_warn(\n"
     ]
    },
    {
     "data": {
      "application/vnd.jupyter.widget-view+json": {
       "model_id": "b5b4010ab84c4fcb888c72014b83a416",
       "version_major": 2,
       "version_minor": 0
      },
      "text/plain": [
       "Validation: 0it [00:00, ?it/s]"
      ]
     },
     "metadata": {},
     "output_type": "display_data"
    },
    {
     "name": "stdout",
     "output_type": "stream",
     "text": [
      "────────────────────────────────────────────────────────────────────────────────────────────────────────────────────────\n",
      "     Validate metric           DataLoader 0\n",
      "────────────────────────────────────────────────────────────────────────────────────────────────────────────────────────\n",
      "        valid/acc           0.7971552014350891\n",
      "        valid/f1            0.7309389201390849\n",
      "────────────────────────────────────────────────────────────────────────────────────────────────────────────────────────\n"
     ]
    },
    {
     "data": {
      "text/plain": [
       "[{'valid/acc': 0.7971552014350891, 'valid/f1': 0.7309389201390849}]"
      ]
     },
     "execution_count": 41,
     "metadata": {},
     "output_type": "execute_result"
    }
   ],
   "source": [
    "camembert_trainer.validate(lightning_model, dataloaders=val_dataloader)"
   ]
  },
  {
   "cell_type": "code",
   "execution_count": 42,
   "id": "4b186c41-2001-4703-a92b-bcb044b51688",
   "metadata": {
    "tags": []
   },
   "outputs": [
    {
     "name": "stderr",
     "output_type": "stream",
     "text": [
      "/opt/conda/lib/python3.10/site-packages/pytorch_lightning/trainer/connectors/data_connector.py:432: PossibleUserWarning: The dataloader, val_dataloader, does not have many workers which may be a bottleneck. Consider increasing the value of the `num_workers` argument` (try 8 which is the number of cpus on this machine) in the `DataLoader` init to improve performance.\n",
      "  rank_zero_warn(\n"
     ]
    },
    {
     "data": {
      "application/vnd.jupyter.widget-view+json": {
       "model_id": "d1b5d5ac131045f69e759eb98be4eabc",
       "version_major": 2,
       "version_minor": 0
      },
      "text/plain": [
       "Validation: 0it [00:00, ?it/s]"
      ]
     },
     "metadata": {},
     "output_type": "display_data"
    },
    {
     "name": "stdout",
     "output_type": "stream",
     "text": [
      "────────────────────────────────────────────────────────────────────────────────────────────────────────────────────────\n",
      "     Validate metric           DataLoader 0\n",
      "────────────────────────────────────────────────────────────────────────────────────────────────────────────────────────\n",
      "        valid/acc           0.7971552014350891\n",
      "        valid/f1            0.7206385308652883\n",
      "────────────────────────────────────────────────────────────────────────────────────────────────────────────────────────\n"
     ]
    },
    {
     "data": {
      "text/plain": [
       "[{'valid/acc': 0.7971552014350891, 'valid/f1': 0.7206385308652883}]"
      ]
     },
     "execution_count": 42,
     "metadata": {},
     "output_type": "execute_result"
    }
   ],
   "source": [
    "camembert_trainer.validate(lightning_model, dataloaders=test_dataloader)"
   ]
  },
  {
   "cell_type": "code",
   "execution_count": 68,
   "id": "0da29125-951e-43a5-8eeb-188e6ba04285",
   "metadata": {
    "tags": []
   },
   "outputs": [],
   "source": [
    "\n"
   ]
  },
  {
   "cell_type": "code",
   "execution_count": 70,
   "id": "468ade91-9261-4660-87a8-6433986c2dc3",
   "metadata": {
    "tags": []
   },
   "outputs": [],
   "source": [
    "ID_TO_LABEL=list(dic_niv2.keys())"
   ]
  },
  {
   "cell_type": "code",
   "execution_count": null,
   "id": "9292a147-02bb-4195-bc7c-c4d8d1ef3730",
   "metadata": {},
   "outputs": [],
   "source": []
  },
  {
   "cell_type": "code",
   "execution_count": 130,
   "id": "c913ef97-960f-4c9b-ab9e-fbf1a8809094",
   "metadata": {
    "tags": []
   },
   "outputs": [],
   "source": [
    "def get_preds(model, tokenizer, sentence):\n",
    "    tokenized_sentence = tokenizer(sentence, return_tensors=\"pt\")\n",
    "    input_ids, attention_mask = tokenized_sentence.input_ids, tokenized_sentence.attention_mask\n",
    "\n",
    "    out = model(\n",
    "        input_ids=tokenized_sentence.input_ids,\n",
    "        attention_mask=tokenized_sentence.attention_mask\n",
    "    )\n",
    "\n",
    "    logits = out.logits\n",
    "\n",
    "    probas = torch.softmax(logits, -1).squeeze()\n",
    "\n",
    "    pred = torch.argmax(probas)\n",
    "\n",
    "    return ID_TO_LABEL[pred], probas[pred].item()"
   ]
  },
  {
   "cell_type": "code",
   "execution_count": 72,
   "id": "a27dc5dd-05ce-4d30-a7d1-047ab67b6f92",
   "metadata": {
    "tags": []
   },
   "outputs": [],
   "source": [
    "device=torch.device('cpu')\n"
   ]
  },
  {
   "cell_type": "code",
   "execution_count": 86,
   "id": "99cdc9b6-8b4d-4d39-a447-cf51d624c12c",
   "metadata": {
    "tags": []
   },
   "outputs": [
    {
     "data": {
      "text/plain": [
       "'administree signale aire jeux situe square niveau tres dangereux sagit dun escalier colimacon acceder toboggan non proteger garde corp poignet casse merci'"
      ]
     },
     "execution_count": 86,
     "metadata": {},
     "output_type": "execute_result"
    }
   ],
   "source": [
    "df['commentaire_usager'][1]"
   ]
  },
  {
   "cell_type": "code",
   "execution_count": 87,
   "id": "507bf867-1ebd-4c87-bb94-a84ccb4790c8",
   "metadata": {
    "tags": []
   },
   "outputs": [
    {
     "data": {
      "text/plain": [
       "'Mobiliers urbains'"
      ]
     },
     "execution_count": 87,
     "metadata": {},
     "output_type": "execute_result"
    }
   ],
   "source": [
    "df['type_level_2'][1]"
   ]
  },
  {
   "cell_type": "code",
   "execution_count": 88,
   "id": "d3880b8a-fb61-43ae-8d51-5586e81f657d",
   "metadata": {
    "tags": []
   },
   "outputs": [],
   "source": [
    "Model=lightning_model.model"
   ]
  },
  {
   "cell_type": "code",
   "execution_count": 89,
   "id": "0b79e1e8-6c2b-4bd2-9232-0eb70c276361",
   "metadata": {
    "tags": []
   },
   "outputs": [
    {
     "name": "stdout",
     "output_type": "stream",
     "text": [
      "Label: Mobiliers urbains, confidence: 0.47\n"
     ]
    }
   ],
   "source": [
    "test_sentence = df['commentaire_usager'][1]\n",
    "\n",
    "label_predicted, proba = get_preds(Model.to(device), tokenizer, test_sentence)\n",
    "\n",
    "print(f\"Label: {label_predicted}, confidence: {proba:.2f}\")"
   ]
  },
  {
   "cell_type": "code",
   "execution_count": 138,
   "id": "2b0e2d5b-0fe6-4c5b-851d-383043ea13e4",
   "metadata": {
    "tags": []
   },
   "outputs": [
    {
     "name": "stderr",
     "output_type": "stream",
     "text": [
      "/opt/conda/lib/python3.10/site-packages/pytorch_lightning/trainer/connectors/data_connector.py:432: PossibleUserWarning: The dataloader, predict_dataloader, does not have many workers which may be a bottleneck. Consider increasing the value of the `num_workers` argument` (try 8 which is the number of cpus on this machine) in the `DataLoader` init to improve performance.\n",
      "  rank_zero_warn(\n"
     ]
    },
    {
     "data": {
      "application/vnd.jupyter.widget-view+json": {
       "model_id": "665868abf5074039ae38990506c1956a",
       "version_major": 2,
       "version_minor": 0
      },
      "text/plain": [
       "Predicting: 0it [00:00, ?it/s]"
      ]
     },
     "metadata": {},
     "output_type": "display_data"
    }
   ],
   "source": [
    "camembert_preds = camembert_trainer.predict(lightning_model, dataloaders=val_dataloader)\n",
    "camembert_preds = torch.cat(camembert_preds, -1)"
   ]
  },
  {
   "cell_type": "code",
   "execution_count": 135,
   "id": "da33fe94-1da7-4ef4-9a5a-518c5fbb6703",
   "metadata": {
    "tags": []
   },
   "outputs": [],
   "source": [
    "label_names = ID_TO_LABEL\n",
    "labels = dataset[\"validation\"][\"label\"]"
   ]
  },
  {
   "cell_type": "code",
   "execution_count": 139,
   "id": "f86b7952-0b4a-4e56-a373-a564a3306c2f",
   "metadata": {
    "tags": []
   },
   "outputs": [],
   "source": [
    "def plot_confusion_matrix(labels, preds, label_names):\n",
    "    confusion_norm = confusion_matrix(labels, preds.tolist(), labels=list(range(len(label_names))), normalize=\"true\")\n",
    "    confusion = confusion_matrix(labels, preds.tolist(), labels=list(range(len(label_names))))\n",
    "\n",
    "    plt.figure(figsize=(10, 10))\n",
    "    sns.heatmap(\n",
    "        confusion_norm,\n",
    "        annot=confusion,\n",
    "        cbar=False,\n",
    "        fmt=\"d\",\n",
    "        xticklabels=label_names,\n",
    "        yticklabels=label_names,\n",
    "        cmap=\"viridis\"\n",
    "    )"
   ]
  },
  {
   "cell_type": "code",
   "execution_count": 140,
   "id": "a356546e-bb19-4f8a-8a8c-6161dcd0bdd2",
   "metadata": {
    "tags": []
   },
   "outputs": [
    {
     "data": {
      "image/png": "[encoded data removed]",
      "text/plain": [
       "<Figure size 1000x1000 with 1 Axes>"
      ]
     },
     "metadata": {},
     "output_type": "display_data"
    }
   ],
   "source": [
    "plot_confusion_matrix(labels, camembert_preds, label_names)"
   ]
  },
  {
   "cell_type": "code",
   "execution_count": null,
   "id": "78d1ac6b-c676-40aa-b24b-da476ca3d79b",
   "metadata": {},
   "outputs": [],
   "source": []
  }
 ],
 "metadata": {
  "kernelspec": {
   "display_name": "Python 3 (ipykernel)",
   "language": "python",
   "name": "python3"
  },
  "language_info": {
   "codemirror_mode": {
    "name": "ipython",
    "version": 3
   },
   "file_extension": ".py",
   "mimetype": "text/x-python",
   "name": "python",
   "nbconvert_exporter": "python",
   "pygments_lexer": "ipython3",
   "version": "3.10.12"
  }
 },
 "nbformat": 4,
 "nbformat_minor": 5
}
